{
 "cells": [
  {
   "cell_type": "code",
   "execution_count": 1,
   "metadata": {
    "collapsed": false
   },
   "outputs": [],
   "source": [
    "import pandas as pd \n",
    "import numpy as np\n",
    "import matplotlib.pyplot as plt\n",
    "from mpl_toolkits.mplot3d import Axes3D\n",
    "from matplotlib import cm\n",
    "from matplotlib.ticker import LinearLocator, FormatStrFormatter\n",
    "from matplotlib.mlab import griddata\n",
    "%matplotlib qt"
   ]
  },
  {
   "cell_type": "markdown",
   "metadata": {},
   "source": [
    "# Bolthman gas"
   ]
  },
  {
   "cell_type": "code",
   "execution_count": 6,
   "metadata": {
    "collapsed": false
   },
   "outputs": [],
   "source": [
    "densityb =  pd.read_csv('D:\\\\DENSITYB.txt','\\t',index_col=False)\n",
    "moduleb =  pd.read_csv('D:\\\\MODULEB.txt','\\t',index_col=False)\n",
    "momentumb =  pd.read_csv('D:\\\\MOMENTUMB.txt','\\t',index_col=False)\n",
    "stepNumber = 10"
   ]
  },
  {
   "cell_type": "code",
   "execution_count": 7,
   "metadata": {
    "collapsed": false
   },
   "outputs": [
    {
     "data": {
      "text/html": [
       "<div>\n",
       "<table border=\"1\" class=\"dataframe\">\n",
       "  <thead>\n",
       "    <tr style=\"text-align: right;\">\n",
       "      <th></th>\n",
       "      <th>time</th>\n",
       "      <th>step</th>\n",
       "      <th>densb</th>\n",
       "      <th>densb_dist</th>\n",
       "    </tr>\n",
       "  </thead>\n",
       "  <tbody>\n",
       "    <tr>\n",
       "      <th>7005</th>\n",
       "      <td>2.478409</td>\n",
       "      <td>5.0</td>\n",
       "      <td>0.125</td>\n",
       "      <td>0.45</td>\n",
       "    </tr>\n",
       "    <tr>\n",
       "      <th>7006</th>\n",
       "      <td>2.478409</td>\n",
       "      <td>6.0</td>\n",
       "      <td>0.130</td>\n",
       "      <td>0.58</td>\n",
       "    </tr>\n",
       "    <tr>\n",
       "      <th>7007</th>\n",
       "      <td>2.478409</td>\n",
       "      <td>7.0</td>\n",
       "      <td>0.140</td>\n",
       "      <td>0.72</td>\n",
       "    </tr>\n",
       "    <tr>\n",
       "      <th>7008</th>\n",
       "      <td>2.478409</td>\n",
       "      <td>8.0</td>\n",
       "      <td>0.140</td>\n",
       "      <td>0.86</td>\n",
       "    </tr>\n",
       "    <tr>\n",
       "      <th>7009</th>\n",
       "      <td>2.478409</td>\n",
       "      <td>9.0</td>\n",
       "      <td>0.140</td>\n",
       "      <td>1.00</td>\n",
       "    </tr>\n",
       "  </tbody>\n",
       "</table>\n",
       "</div>"
      ],
      "text/plain": [
       "          time  step  densb  densb_dist\n",
       "7005  2.478409   5.0  0.125        0.45\n",
       "7006  2.478409   6.0  0.130        0.58\n",
       "7007  2.478409   7.0  0.140        0.72\n",
       "7008  2.478409   8.0  0.140        0.86\n",
       "7009  2.478409   9.0  0.140        1.00"
      ]
     },
     "execution_count": 7,
     "metadata": {},
     "output_type": "execute_result"
    }
   ],
   "source": [
    "densityb.tail()"
   ]
  },
  {
   "cell_type": "code",
   "execution_count": 4,
   "metadata": {
    "collapsed": false
   },
   "outputs": [],
   "source": [
    "plt.plot(densityb.step[len(momentumb)-stepNumber:],densityb.densb[len(momentumb)-stepNumber:],'ro')\n",
    "plt.show()"
   ]
  },
  {
   "cell_type": "code",
   "execution_count": 8,
   "metadata": {
    "collapsed": false
   },
   "outputs": [
    {
     "name": "stdout",
     "output_type": "stream",
     "text": [
      "1.0\n"
     ]
    }
   ],
   "source": [
    "dyb = densityb.densb[len(momentumb)-stepNumber:].sum()\n",
    "print(dyb)"
   ]
  },
  {
   "cell_type": "code",
   "execution_count": 25,
   "metadata": {
    "collapsed": false
   },
   "outputs": [],
   "source": [
    "plt.plot(densityb.step[len(momentumb)-stepNumber:],densityb.densb_dist[len(momentumb)-stepNumber:],'r-')\n",
    "plt.show()"
   ]
  },
  {
   "cell_type": "markdown",
   "metadata": {},
   "source": [
    "# Viscek gas"
   ]
  },
  {
   "cell_type": "code",
   "execution_count": 3,
   "metadata": {
    "collapsed": false
   },
   "outputs": [],
   "source": [
    "densityv =  pd.read_csv('D:\\\\DENSITYV.txt','\\t',index_col=False,error_bad_lines=False)\n",
    "modulev =  pd.read_csv('D:\\\\MODULEV.txt','\\t',index_col=False,error_bad_lines=False)\n",
    "momentumv =  pd.read_csv('D:\\\\MOMENTUMV.txt','\\t',index_col=False,error_bad_lines=False)\n",
    "stepNumber = 10"
   ]
  },
  {
   "cell_type": "code",
   "execution_count": 4,
   "metadata": {
    "collapsed": false
   },
   "outputs": [
    {
     "name": "stdout",
     "output_type": "stream",
     "text": [
      "1.0\n"
     ]
    }
   ],
   "source": [
    "dyb = densityv.densv[len(densityv)-stepNumber:].sum()\n",
    "print(dyb)"
   ]
  },
  {
   "cell_type": "code",
   "execution_count": 5,
   "metadata": {
    "collapsed": false
   },
   "outputs": [
    {
     "data": {
      "text/html": [
       "<div>\n",
       "<table border=\"1\" class=\"dataframe\">\n",
       "  <thead>\n",
       "    <tr style=\"text-align: right;\">\n",
       "      <th></th>\n",
       "      <th>time</th>\n",
       "      <th>step</th>\n",
       "      <th>densv</th>\n",
       "    </tr>\n",
       "  </thead>\n",
       "  <tbody>\n",
       "    <tr>\n",
       "      <th>11305</th>\n",
       "      <td>37.7</td>\n",
       "      <td>5.0</td>\n",
       "      <td>0.003</td>\n",
       "    </tr>\n",
       "    <tr>\n",
       "      <th>11306</th>\n",
       "      <td>37.7</td>\n",
       "      <td>6.0</td>\n",
       "      <td>0.007</td>\n",
       "    </tr>\n",
       "    <tr>\n",
       "      <th>11307</th>\n",
       "      <td>37.7</td>\n",
       "      <td>7.0</td>\n",
       "      <td>0.002</td>\n",
       "    </tr>\n",
       "    <tr>\n",
       "      <th>11308</th>\n",
       "      <td>37.7</td>\n",
       "      <td>8.0</td>\n",
       "      <td>0.000</td>\n",
       "    </tr>\n",
       "    <tr>\n",
       "      <th>11309</th>\n",
       "      <td>37.7</td>\n",
       "      <td>9.0</td>\n",
       "      <td>0.986</td>\n",
       "    </tr>\n",
       "  </tbody>\n",
       "</table>\n",
       "</div>"
      ],
      "text/plain": [
       "       time  step  densv\n",
       "11305  37.7   5.0  0.003\n",
       "11306  37.7   6.0  0.007\n",
       "11307  37.7   7.0  0.002\n",
       "11308  37.7   8.0  0.000\n",
       "11309  37.7   9.0  0.986"
      ]
     },
     "execution_count": 5,
     "metadata": {},
     "output_type": "execute_result"
    }
   ],
   "source": [
    "densityv.tail()"
   ]
  },
  {
   "cell_type": "code",
   "execution_count": 17,
   "metadata": {
    "collapsed": false
   },
   "outputs": [],
   "source": [
    "plt.plot(densityv.step[len(momentumv)-stepNumber:],densityv.densv[len(momentumv)-stepNumber:],'r-')\n",
    "plt.show()"
   ]
  },
  {
   "cell_type": "code",
   "execution_count": 57,
   "metadata": {
    "collapsed": false
   },
   "outputs": [],
   "source": [
    "plt.plot(densityv.step[len(momentumv)-stepNumber:],densityv.densv[len(momentumv)-stepNumber:],'ro')\n",
    "plt.show()"
   ]
  },
  {
   "cell_type": "code",
   "execution_count": 9,
   "metadata": {
    "collapsed": false
   },
   "outputs": [],
   "source": [
    "densityv.densv_dist;"
   ]
  },
  {
   "cell_type": "code",
   "execution_count": 24,
   "metadata": {
    "collapsed": false
   },
   "outputs": [
    {
     "data": {
      "text/plain": [
       "10.376000000000001"
      ]
     },
     "execution_count": 24,
     "metadata": {},
     "output_type": "execute_result"
    }
   ],
   "source": [
    "densityv.densv_dist[len(momentumv)-stepNumber:].sum()"
   ]
  },
  {
   "cell_type": "code",
   "execution_count": 9,
   "metadata": {
    "collapsed": false
   },
   "outputs": [],
   "source": [
    "plt.plot(0.1*densityb.step[len(momentumb)-stepNumber:],densityb.densb_dist[len(momentumb)-stepNumber:],'k-', label=\"Bolthman\")\n",
    "plt.plot(0.1*densityv.step[len(momentumb)-stepNumber:],densityv.densv_dist[len(momentumb)-stepNumber:],'k--', label=\"Viscek\")\n",
    "plt.legend(bbox_to_anchor=(0.12, 0.62, 0.55, .102), loc=3,\n",
    "           ncol=2, mode=\"expand\", borderaxespad=0.)\n",
    "plt.title('Density Chisquare')\n",
    "plt.xlabel('r/R')\n",
    "plt.ylabel('Density')\n",
    "plt.savefig('ChisquareDensity.png')\n",
    "\n",
    "plt.show()"
   ]
  },
  {
   "cell_type": "code",
   "execution_count": 10,
   "metadata": {
    "collapsed": false
   },
   "outputs": [],
   "source": [
    "plt.plot(0.1*moduleb.step[len(momentumb)-stepNumber:],moduleb.moduleb_dist[len(momentumb)-stepNumber:],'k-', label=\"Bolthman\")\n",
    "plt.plot(0.1*modulev.step[len(momentumb)-stepNumber:],modulev.modulev_dist[len(momentumb)-stepNumber:],'k--', label=\"Viscek\")\n",
    "plt.legend(bbox_to_anchor=(0.12, 0.62, 0.55, .102), loc=3,\n",
    "           ncol=2, mode=\"expand\", borderaxespad=0.)\n",
    "plt.title('Radial Velocity Poisson')\n",
    "plt.xlabel('r/R')\n",
    "plt.ylabel('Velocity')\n",
    "plt.savefig('ChisquareDistributionRadialVelocity.png')\n",
    "plt.show()"
   ]
  },
  {
   "cell_type": "code",
   "execution_count": 11,
   "metadata": {
    "collapsed": false
   },
   "outputs": [],
   "source": [
    "plt.plot(0.1*momentumb.step[len(momentumb)-stepNumber:],momentumb.moduleb_dist[len(momentumb)-stepNumber:],'k-', label=\"Bolthman\")\n",
    "plt.plot(0.1*momentumv.step[len(momentumb)-stepNumber:],momentumv.modulev_dist[len(momentumb)-stepNumber:],'k--', label=\"Viscek\")\n",
    "plt.legend(bbox_to_anchor=(0.12, 0.62, 0.55, .102), loc=3,\n",
    "           ncol=2, mode=\"expand\", borderaxespad=0.)\n",
    "plt.title('Angular Velocity Chisquare')\n",
    "plt.xlabel('r/R')\n",
    "plt.ylabel('Velocity')\n",
    "plt.savefig('ChisquareDistributionAngularVelocity.png')\n",
    "plt.show()"
   ]
  },
  {
   "cell_type": "code",
   "execution_count": 127,
   "metadata": {
    "collapsed": true
   },
   "outputs": [],
   "source": [
    "plt.plot(momentumv.step[len(momentumb)-stepNumber:],momentumv.modulev_dist[len(momentumb)-stepNumber:],'g-', label=\"Viscek\")\n",
    "plt.show()"
   ]
  },
  {
   "cell_type": "code",
   "execution_count": 8,
   "metadata": {
    "collapsed": false
   },
   "outputs": [],
   "source": [
    "fig = plt.figure()\n",
    "ax = fig.gca(projection='3d')\n",
    "x = densityv.time\n",
    "y = densityv.step\n",
    "z = densityv.densv\n",
    "\n",
    "xi = np.linspace(min(x), max(x))\n",
    "yi = np.linspace(min(y), max(y))\n",
    "\n",
    "X, Y = np.meshgrid(xi, yi)\n",
    "Z = griddata(x, y, z, xi, yi,interp='linear')\n",
    "\n",
    "surf = ax.plot_surface(X, Y, Z, rstride=5, cstride=5, cmap=cm.bwr,\n",
    "                       linewidth=1, antialiased=True)\n",
    "\n",
    "ax.set_zlim3d(np.min(Z), np.max(Z))\n",
    "\n",
    "ax.set_xlabel('t')\n",
    "ax.set_ylabel('r/R')\n",
    "ax.set_zlabel('dens')\n",
    "plt.savefig('dens.png')\n",
    "\n",
    "plt.show()"
   ]
  },
  {
   "cell_type": "code",
   "execution_count": 9,
   "metadata": {
    "collapsed": false
   },
   "outputs": [],
   "source": [
    "fig = plt.figure()\n",
    "ax = fig.gca(projection='3d')\n",
    "x = modulev.time\n",
    "y = modulev.step\n",
    "z = modulev.modulev\n",
    "\n",
    "xi = np.linspace(min(x), max(x))\n",
    "yi = np.linspace(min(y), max(y))\n",
    "\n",
    "X, Y = np.meshgrid(xi, yi)\n",
    "Z = griddata(x, y, z, xi, yi,interp='linear')\n",
    "\n",
    "surf = ax.plot_surface(X, Y, Z, rstride=5, cstride=5, cmap=cm.bwr,\n",
    "                       linewidth=1, antialiased=True)\n",
    "\n",
    "ax.set_zlim3d(np.min(Z), np.max(Z))\n",
    "\n",
    "ax.set_xlabel('t')\n",
    "ax.set_ylabel('r/R')\n",
    "ax.set_zlabel('radial')\n",
    "plt.savefig('radial.png')\n",
    "\n",
    "plt.show()"
   ]
  },
  {
   "cell_type": "code",
   "execution_count": 12,
   "metadata": {
    "collapsed": false
   },
   "outputs": [],
   "source": [
    "fig = plt.figure()\n",
    "ax = fig.gca(projection='3d')\n",
    "x = momentumv.time\n",
    "y = momentumv.step\n",
    "z = momentumv.momentumv\n",
    "\n",
    "xi = np.linspace(min(x), max(x))\n",
    "yi = np.linspace(min(y), max(y))\n",
    "\n",
    "X, Y = np.meshgrid(xi, yi)\n",
    "Z = griddata(x, y, z, xi, yi,interp='linear')\n",
    "\n",
    "surf = ax.plot_surface(X, Y, Z, rstride=5, cstride=5, cmap=cm.bwr,\n",
    "                       linewidth=1, antialiased=True)\n",
    "\n",
    "ax.set_zlim3d(np.min(Z), np.max(Z))\n",
    "\n",
    "ax.set_xlabel('t')\n",
    "ax.set_ylabel('r/R')\n",
    "ax.set_zlabel('angular')\n",
    "plt.savefig('angular.png')\n",
    "\n",
    "plt.show()"
   ]
  },
  {
   "cell_type": "code",
   "execution_count": 22,
   "metadata": {
    "collapsed": true
   },
   "outputs": [],
   "source": [
    "densityvf =  pd.read_csv('D:\\\\DENSITYV_F.txt','\\t',index_col=False,error_bad_lines=False)\n",
    "modulevf =  pd.read_csv('D:\\\\MODULEV_F.txt','\\t',index_col=False,error_bad_lines=False)\n",
    "momentumvf =  pd.read_csv('D:\\\\MOMENTUMV_F.txt','\\t',index_col=False,error_bad_lines=False)\n",
    "stepNumber = 10"
   ]
  },
  {
   "cell_type": "code",
   "execution_count": 23,
   "metadata": {
    "collapsed": false
   },
   "outputs": [
    {
     "name": "stdout",
     "output_type": "stream",
     "text": [
      "0.9999999999999999\n"
     ]
    }
   ],
   "source": [
    "dyf = densityvf.densv[len(densityvf)-stepNumber:].sum()\n",
    "print(dyf)"
   ]
  },
  {
   "cell_type": "code",
   "execution_count": 24,
   "metadata": {
    "collapsed": false
   },
   "outputs": [
    {
     "data": {
      "text/html": [
       "<div>\n",
       "<table border=\"1\" class=\"dataframe\">\n",
       "  <thead>\n",
       "    <tr style=\"text-align: right;\">\n",
       "      <th></th>\n",
       "      <th>time</th>\n",
       "      <th>step</th>\n",
       "      <th>densv</th>\n",
       "    </tr>\n",
       "  </thead>\n",
       "  <tbody>\n",
       "    <tr>\n",
       "      <th>6884</th>\n",
       "      <td>22.966667</td>\n",
       "      <td>4.0</td>\n",
       "      <td>0.083</td>\n",
       "    </tr>\n",
       "    <tr>\n",
       "      <th>6885</th>\n",
       "      <td>22.966667</td>\n",
       "      <td>5.0</td>\n",
       "      <td>0.121</td>\n",
       "    </tr>\n",
       "    <tr>\n",
       "      <th>6886</th>\n",
       "      <td>22.966667</td>\n",
       "      <td>6.0</td>\n",
       "      <td>0.208</td>\n",
       "    </tr>\n",
       "    <tr>\n",
       "      <th>6887</th>\n",
       "      <td>22.966667</td>\n",
       "      <td>7.0</td>\n",
       "      <td>0.155</td>\n",
       "    </tr>\n",
       "    <tr>\n",
       "      <th>6888</th>\n",
       "      <td>22.966667</td>\n",
       "      <td>8.0</td>\n",
       "      <td>0.104</td>\n",
       "    </tr>\n",
       "  </tbody>\n",
       "</table>\n",
       "</div>"
      ],
      "text/plain": [
       "           time  step  densv\n",
       "6884  22.966667   4.0  0.083\n",
       "6885  22.966667   5.0  0.121\n",
       "6886  22.966667   6.0  0.208\n",
       "6887  22.966667   7.0  0.155\n",
       "6888  22.966667   8.0  0.104"
      ]
     },
     "execution_count": 24,
     "metadata": {},
     "output_type": "execute_result"
    }
   ],
   "source": [
    "densityvf.tail()"
   ]
  },
  {
   "cell_type": "code",
   "execution_count": 25,
   "metadata": {
    "collapsed": true
   },
   "outputs": [],
   "source": [
    "fig = plt.figure()\n",
    "ax = fig.gca(projection='3d')\n",
    "x = densityvf.time\n",
    "y = densityvf.step\n",
    "z = densityvf.densv\n",
    "\n",
    "xi = np.linspace(min(x), max(x))\n",
    "yi = np.linspace(min(y), max(y))\n",
    "\n",
    "X, Y = np.meshgrid(xi, yi)\n",
    "Z = griddata(x, y, z, xi, yi,interp='linear')\n",
    "\n",
    "surf = ax.plot_surface(X, Y, Z, rstride=5, cstride=5, cmap=cm.bwr,\n",
    "                       linewidth=1, antialiased=True)\n",
    "\n",
    "ax.set_zlim3d(np.min(Z), np.max(Z))\n",
    "\n",
    "ax.set_xlabel('t')\n",
    "ax.set_ylabel('r/R')\n",
    "ax.set_zlabel('dens')\n",
    "plt.savefig('dens.png')\n",
    "\n",
    "plt.show()"
   ]
  },
  {
   "cell_type": "code",
   "execution_count": 19,
   "metadata": {
    "collapsed": false
   },
   "outputs": [],
   "source": [
    "test = pd.read_csv(\"D:\\\\outputfile.txt\",sep=\" \")"
   ]
  },
  {
   "cell_type": "code",
   "execution_count": 21,
   "metadata": {
    "collapsed": false
   },
   "outputs": [
    {
     "data": {
      "text/html": [
       "<div>\n",
       "<table border=\"1\" class=\"dataframe\">\n",
       "  <thead>\n",
       "    <tr style=\"text-align: right;\">\n",
       "      <th></th>\n",
       "      <th>x</th>\n",
       "      <th>y</th>\n",
       "      <th>vx</th>\n",
       "      <th>vy</th>\n",
       "    </tr>\n",
       "  </thead>\n",
       "  <tbody>\n",
       "    <tr>\n",
       "      <th>24995</th>\n",
       "      <td>0.248344</td>\n",
       "      <td>-0.472625</td>\n",
       "      <td>0.697252</td>\n",
       "      <td>0.716826</td>\n",
       "    </tr>\n",
       "    <tr>\n",
       "      <th>24996</th>\n",
       "      <td>-0.245959</td>\n",
       "      <td>-0.846595</td>\n",
       "      <td>0.697252</td>\n",
       "      <td>0.716826</td>\n",
       "    </tr>\n",
       "    <tr>\n",
       "      <th>24997</th>\n",
       "      <td>-0.570069</td>\n",
       "      <td>0.707000</td>\n",
       "      <td>0.697252</td>\n",
       "      <td>0.716826</td>\n",
       "    </tr>\n",
       "    <tr>\n",
       "      <th>24998</th>\n",
       "      <td>0.462888</td>\n",
       "      <td>0.829599</td>\n",
       "      <td>0.697252</td>\n",
       "      <td>0.716826</td>\n",
       "    </tr>\n",
       "    <tr>\n",
       "      <th>24999</th>\n",
       "      <td>-0.076231</td>\n",
       "      <td>0.016037</td>\n",
       "      <td>0.697252</td>\n",
       "      <td>0.716826</td>\n",
       "    </tr>\n",
       "    <tr>\n",
       "      <th>25000</th>\n",
       "      <td>0.248344</td>\n",
       "      <td>-0.472625</td>\n",
       "      <td>0.697252</td>\n",
       "      <td>0.716826</td>\n",
       "    </tr>\n",
       "    <tr>\n",
       "      <th>25001</th>\n",
       "      <td>-0.245959</td>\n",
       "      <td>-0.846595</td>\n",
       "      <td>0.697252</td>\n",
       "      <td>0.716826</td>\n",
       "    </tr>\n",
       "    <tr>\n",
       "      <th>25002</th>\n",
       "      <td>-0.570069</td>\n",
       "      <td>0.707000</td>\n",
       "      <td>0.697252</td>\n",
       "      <td>0.716826</td>\n",
       "    </tr>\n",
       "    <tr>\n",
       "      <th>25003</th>\n",
       "      <td>0.462888</td>\n",
       "      <td>0.829599</td>\n",
       "      <td>0.697252</td>\n",
       "      <td>0.716826</td>\n",
       "    </tr>\n",
       "    <tr>\n",
       "      <th>25004</th>\n",
       "      <td>-0.076231</td>\n",
       "      <td>0.016037</td>\n",
       "      <td>0.697252</td>\n",
       "      <td>0.716826</td>\n",
       "    </tr>\n",
       "  </tbody>\n",
       "</table>\n",
       "</div>"
      ],
      "text/plain": [
       "              x         y        vx        vy\n",
       "24995  0.248344 -0.472625  0.697252  0.716826\n",
       "24996 -0.245959 -0.846595  0.697252  0.716826\n",
       "24997 -0.570069  0.707000  0.697252  0.716826\n",
       "24998  0.462888  0.829599  0.697252  0.716826\n",
       "24999 -0.076231  0.016037  0.697252  0.716826\n",
       "25000  0.248344 -0.472625  0.697252  0.716826\n",
       "25001 -0.245959 -0.846595  0.697252  0.716826\n",
       "25002 -0.570069  0.707000  0.697252  0.716826\n",
       "25003  0.462888  0.829599  0.697252  0.716826\n",
       "25004 -0.076231  0.016037  0.697252  0.716826"
      ]
     },
     "execution_count": 21,
     "metadata": {},
     "output_type": "execute_result"
    }
   ],
   "source": [
    "test.tail(10)"
   ]
  },
  {
   "cell_type": "code",
   "execution_count": 20,
   "metadata": {
    "collapsed": false
   },
   "outputs": [],
   "source": [
    "plt.plot(test.x[:1500],test.y[:1500],'o')\n",
    "plt.show()"
   ]
  },
  {
   "cell_type": "code",
   "execution_count": 13,
   "metadata": {
    "collapsed": false
   },
   "outputs": [],
   "source": [
    "import matplotlib.animation as animation\n",
    "\n",
    "fig = plt.figure()\n",
    "ax = plt.axes(xlim=(-20, 20), ylim=(-20, 20))\n",
    "line, = ax.plot([], [],'o',lw=1)\n",
    "\n",
    "def init():\n",
    "    line.set_data([], [])\n",
    "    return line,\n",
    "\n",
    "def animate(i):\n",
    "    x=test.x[500*i:500*i+500]\n",
    "    y=test.y[500*i:500*i+500]\n",
    "    line.set_data(x, y)\n",
    "    return line,\n",
    "\n",
    "anim = animation.FuncAnimation(fig, animate, init_func=init,\n",
    "                               frames=200, interval=20, blit=True)\n",
    "plt.show()"
   ]
  },
  {
   "cell_type": "code",
   "execution_count": 3,
   "metadata": {
    "collapsed": true
   },
   "outputs": [],
   "source": [
    "result= pd.read_csv('D:\\\\RESULTV.txt','\\t',index_col=None)\n",
    "stepNumber = 10"
   ]
  },
  {
   "cell_type": "code",
   "execution_count": 4,
   "metadata": {
    "collapsed": false
   },
   "outputs": [
    {
     "data": {
      "text/html": [
       "<div>\n",
       "<table border=\"1\" class=\"dataframe\">\n",
       "  <thead>\n",
       "    <tr style=\"text-align: right;\">\n",
       "      <th></th>\n",
       "      <th>time</th>\n",
       "      <th>step</th>\n",
       "      <th>densv</th>\n",
       "      <th>module</th>\n",
       "      <th>momentum</th>\n",
       "    </tr>\n",
       "  </thead>\n",
       "  <tbody>\n",
       "    <tr>\n",
       "      <th>23959</th>\n",
       "      <td>79.866667</td>\n",
       "      <td>9.0</td>\n",
       "      <td>0.999</td>\n",
       "      <td>5.283512</td>\n",
       "      <td>2.253546</td>\n",
       "    </tr>\n",
       "    <tr>\n",
       "      <th>23960</th>\n",
       "      <td>79.900000</td>\n",
       "      <td>0.0</td>\n",
       "      <td>0.000</td>\n",
       "      <td>0.000000</td>\n",
       "      <td>0.000000</td>\n",
       "    </tr>\n",
       "    <tr>\n",
       "      <th>23961</th>\n",
       "      <td>79.900000</td>\n",
       "      <td>1.0</td>\n",
       "      <td>0.000</td>\n",
       "      <td>0.000000</td>\n",
       "      <td>0.000000</td>\n",
       "    </tr>\n",
       "    <tr>\n",
       "      <th>23962</th>\n",
       "      <td>79.900000</td>\n",
       "      <td>2.0</td>\n",
       "      <td>0.000</td>\n",
       "      <td>0.000000</td>\n",
       "      <td>0.000000</td>\n",
       "    </tr>\n",
       "    <tr>\n",
       "      <th>23963</th>\n",
       "      <td>79.900000</td>\n",
       "      <td>3.0</td>\n",
       "      <td>0.000</td>\n",
       "      <td>0.000000</td>\n",
       "      <td>0.000000</td>\n",
       "    </tr>\n",
       "  </tbody>\n",
       "</table>\n",
       "</div>"
      ],
      "text/plain": [
       "            time  step  densv    module  momentum\n",
       "23959  79.866667   9.0  0.999  5.283512  2.253546\n",
       "23960  79.900000   0.0  0.000  0.000000  0.000000\n",
       "23961  79.900000   1.0  0.000  0.000000  0.000000\n",
       "23962  79.900000   2.0  0.000  0.000000  0.000000\n",
       "23963  79.900000   3.0  0.000  0.000000  0.000000"
      ]
     },
     "execution_count": 4,
     "metadata": {},
     "output_type": "execute_result"
    }
   ],
   "source": [
    "result.tail()"
   ]
  },
  {
   "cell_type": "code",
   "execution_count": 50,
   "metadata": {
    "collapsed": true
   },
   "outputs": [],
   "source": [
    "fig = plt.figure()\n",
    "ax = fig.gca(projection='3d')\n",
    "x = result.time\n",
    "y = result.step\n",
    "z = result.densv\n",
    "\n",
    "xi = np.linspace(min(x), max(x))\n",
    "yi = np.linspace(min(y), max(y))\n",
    "\n",
    "X, Y = np.meshgrid(xi, yi)\n",
    "Z = griddata(x, y, z, xi, yi,interp='linear')\n",
    "\n",
    "surf = ax.plot_surface(X, Y, Z, rstride=5, cstride=5, cmap=cm.bwr,\n",
    "                       linewidth=1, antialiased=True)\n",
    "\n",
    "ax.set_zlim3d(np.min(Z), np.max(Z))\n",
    "\n",
    "ax.set_xlabel('t')\n",
    "ax.set_ylabel('r/R')\n",
    "ax.set_zlabel('dens')\n",
    "plt.savefig('dens.png')\n",
    "\n",
    "plt.show()"
   ]
  },
  {
   "cell_type": "code",
   "execution_count": 32,
   "metadata": {
    "collapsed": false
   },
   "outputs": [
    {
     "ename": "OSError",
     "evalue": "File b'D:\\\\RESULTV2.txt' does not exist",
     "output_type": "error",
     "traceback": [
      "\u001b[0;31m---------------------------------------------------------------------------\u001b[0m",
      "\u001b[0;31mOSError\u001b[0m                                   Traceback (most recent call last)",
      "\u001b[0;32m<ipython-input-32-f15546a1af2e>\u001b[0m in \u001b[0;36m<module>\u001b[0;34m()\u001b[0m\n\u001b[0;32m----> 1\u001b[0;31m \u001b[0mresult\u001b[0m\u001b[1;33m=\u001b[0m \u001b[0mpd\u001b[0m\u001b[1;33m.\u001b[0m\u001b[0mread_csv\u001b[0m\u001b[1;33m(\u001b[0m\u001b[1;34m'D:\\\\RESULTV2.txt'\u001b[0m\u001b[1;33m,\u001b[0m\u001b[1;34m'\\t'\u001b[0m\u001b[1;33m,\u001b[0m\u001b[0mindex_col\u001b[0m\u001b[1;33m=\u001b[0m\u001b[1;32mNone\u001b[0m\u001b[1;33m)\u001b[0m\u001b[1;33m\u001b[0m\u001b[0m\n\u001b[0m",
      "\u001b[0;32mC:\\Anaconda3\\lib\\site-packages\\pandas\\io\\parsers.py\u001b[0m in \u001b[0;36mparser_f\u001b[0;34m(filepath_or_buffer, sep, delimiter, header, names, index_col, usecols, squeeze, prefix, mangle_dupe_cols, dtype, engine, converters, true_values, false_values, skipinitialspace, skiprows, skipfooter, nrows, na_values, keep_default_na, na_filter, verbose, skip_blank_lines, parse_dates, infer_datetime_format, keep_date_col, date_parser, dayfirst, iterator, chunksize, compression, thousands, decimal, lineterminator, quotechar, quoting, escapechar, comment, encoding, dialect, tupleize_cols, error_bad_lines, warn_bad_lines, skip_footer, doublequote, delim_whitespace, as_recarray, compact_ints, use_unsigned, low_memory, buffer_lines, memory_map, float_precision)\u001b[0m\n\u001b[1;32m    560\u001b[0m                     skip_blank_lines=skip_blank_lines)\n\u001b[1;32m    561\u001b[0m \u001b[1;33m\u001b[0m\u001b[0m\n\u001b[0;32m--> 562\u001b[0;31m         \u001b[1;32mreturn\u001b[0m \u001b[0m_read\u001b[0m\u001b[1;33m(\u001b[0m\u001b[0mfilepath_or_buffer\u001b[0m\u001b[1;33m,\u001b[0m \u001b[0mkwds\u001b[0m\u001b[1;33m)\u001b[0m\u001b[1;33m\u001b[0m\u001b[0m\n\u001b[0m\u001b[1;32m    563\u001b[0m \u001b[1;33m\u001b[0m\u001b[0m\n\u001b[1;32m    564\u001b[0m     \u001b[0mparser_f\u001b[0m\u001b[1;33m.\u001b[0m\u001b[0m__name__\u001b[0m \u001b[1;33m=\u001b[0m \u001b[0mname\u001b[0m\u001b[1;33m\u001b[0m\u001b[0m\n",
      "\u001b[0;32mC:\\Anaconda3\\lib\\site-packages\\pandas\\io\\parsers.py\u001b[0m in \u001b[0;36m_read\u001b[0;34m(filepath_or_buffer, kwds)\u001b[0m\n\u001b[1;32m    313\u001b[0m \u001b[1;33m\u001b[0m\u001b[0m\n\u001b[1;32m    314\u001b[0m     \u001b[1;31m# Create the parser.\u001b[0m\u001b[1;33m\u001b[0m\u001b[1;33m\u001b[0m\u001b[0m\n\u001b[0;32m--> 315\u001b[0;31m     \u001b[0mparser\u001b[0m \u001b[1;33m=\u001b[0m \u001b[0mTextFileReader\u001b[0m\u001b[1;33m(\u001b[0m\u001b[0mfilepath_or_buffer\u001b[0m\u001b[1;33m,\u001b[0m \u001b[1;33m**\u001b[0m\u001b[0mkwds\u001b[0m\u001b[1;33m)\u001b[0m\u001b[1;33m\u001b[0m\u001b[0m\n\u001b[0m\u001b[1;32m    316\u001b[0m \u001b[1;33m\u001b[0m\u001b[0m\n\u001b[1;32m    317\u001b[0m     \u001b[1;32mif\u001b[0m \u001b[1;33m(\u001b[0m\u001b[0mnrows\u001b[0m \u001b[1;32mis\u001b[0m \u001b[1;32mnot\u001b[0m \u001b[1;32mNone\u001b[0m\u001b[1;33m)\u001b[0m \u001b[1;32mand\u001b[0m \u001b[1;33m(\u001b[0m\u001b[0mchunksize\u001b[0m \u001b[1;32mis\u001b[0m \u001b[1;32mnot\u001b[0m \u001b[1;32mNone\u001b[0m\u001b[1;33m)\u001b[0m\u001b[1;33m:\u001b[0m\u001b[1;33m\u001b[0m\u001b[0m\n",
      "\u001b[0;32mC:\\Anaconda3\\lib\\site-packages\\pandas\\io\\parsers.py\u001b[0m in \u001b[0;36m__init__\u001b[0;34m(self, f, engine, **kwds)\u001b[0m\n\u001b[1;32m    643\u001b[0m             \u001b[0mself\u001b[0m\u001b[1;33m.\u001b[0m\u001b[0moptions\u001b[0m\u001b[1;33m[\u001b[0m\u001b[1;34m'has_index_names'\u001b[0m\u001b[1;33m]\u001b[0m \u001b[1;33m=\u001b[0m \u001b[0mkwds\u001b[0m\u001b[1;33m[\u001b[0m\u001b[1;34m'has_index_names'\u001b[0m\u001b[1;33m]\u001b[0m\u001b[1;33m\u001b[0m\u001b[0m\n\u001b[1;32m    644\u001b[0m \u001b[1;33m\u001b[0m\u001b[0m\n\u001b[0;32m--> 645\u001b[0;31m         \u001b[0mself\u001b[0m\u001b[1;33m.\u001b[0m\u001b[0m_make_engine\u001b[0m\u001b[1;33m(\u001b[0m\u001b[0mself\u001b[0m\u001b[1;33m.\u001b[0m\u001b[0mengine\u001b[0m\u001b[1;33m)\u001b[0m\u001b[1;33m\u001b[0m\u001b[0m\n\u001b[0m\u001b[1;32m    646\u001b[0m \u001b[1;33m\u001b[0m\u001b[0m\n\u001b[1;32m    647\u001b[0m     \u001b[1;32mdef\u001b[0m \u001b[0mclose\u001b[0m\u001b[1;33m(\u001b[0m\u001b[0mself\u001b[0m\u001b[1;33m)\u001b[0m\u001b[1;33m:\u001b[0m\u001b[1;33m\u001b[0m\u001b[0m\n",
      "\u001b[0;32mC:\\Anaconda3\\lib\\site-packages\\pandas\\io\\parsers.py\u001b[0m in \u001b[0;36m_make_engine\u001b[0;34m(self, engine)\u001b[0m\n\u001b[1;32m    797\u001b[0m     \u001b[1;32mdef\u001b[0m \u001b[0m_make_engine\u001b[0m\u001b[1;33m(\u001b[0m\u001b[0mself\u001b[0m\u001b[1;33m,\u001b[0m \u001b[0mengine\u001b[0m\u001b[1;33m=\u001b[0m\u001b[1;34m'c'\u001b[0m\u001b[1;33m)\u001b[0m\u001b[1;33m:\u001b[0m\u001b[1;33m\u001b[0m\u001b[0m\n\u001b[1;32m    798\u001b[0m         \u001b[1;32mif\u001b[0m \u001b[0mengine\u001b[0m \u001b[1;33m==\u001b[0m \u001b[1;34m'c'\u001b[0m\u001b[1;33m:\u001b[0m\u001b[1;33m\u001b[0m\u001b[0m\n\u001b[0;32m--> 799\u001b[0;31m             \u001b[0mself\u001b[0m\u001b[1;33m.\u001b[0m\u001b[0m_engine\u001b[0m \u001b[1;33m=\u001b[0m \u001b[0mCParserWrapper\u001b[0m\u001b[1;33m(\u001b[0m\u001b[0mself\u001b[0m\u001b[1;33m.\u001b[0m\u001b[0mf\u001b[0m\u001b[1;33m,\u001b[0m \u001b[1;33m**\u001b[0m\u001b[0mself\u001b[0m\u001b[1;33m.\u001b[0m\u001b[0moptions\u001b[0m\u001b[1;33m)\u001b[0m\u001b[1;33m\u001b[0m\u001b[0m\n\u001b[0m\u001b[1;32m    800\u001b[0m         \u001b[1;32melse\u001b[0m\u001b[1;33m:\u001b[0m\u001b[1;33m\u001b[0m\u001b[0m\n\u001b[1;32m    801\u001b[0m             \u001b[1;32mif\u001b[0m \u001b[0mengine\u001b[0m \u001b[1;33m==\u001b[0m \u001b[1;34m'python'\u001b[0m\u001b[1;33m:\u001b[0m\u001b[1;33m\u001b[0m\u001b[0m\n",
      "\u001b[0;32mC:\\Anaconda3\\lib\\site-packages\\pandas\\io\\parsers.py\u001b[0m in \u001b[0;36m__init__\u001b[0;34m(self, src, **kwds)\u001b[0m\n\u001b[1;32m   1211\u001b[0m         \u001b[0mkwds\u001b[0m\u001b[1;33m[\u001b[0m\u001b[1;34m'allow_leading_cols'\u001b[0m\u001b[1;33m]\u001b[0m \u001b[1;33m=\u001b[0m \u001b[0mself\u001b[0m\u001b[1;33m.\u001b[0m\u001b[0mindex_col\u001b[0m \u001b[1;32mis\u001b[0m \u001b[1;32mnot\u001b[0m \u001b[1;32mFalse\u001b[0m\u001b[1;33m\u001b[0m\u001b[0m\n\u001b[1;32m   1212\u001b[0m \u001b[1;33m\u001b[0m\u001b[0m\n\u001b[0;32m-> 1213\u001b[0;31m         \u001b[0mself\u001b[0m\u001b[1;33m.\u001b[0m\u001b[0m_reader\u001b[0m \u001b[1;33m=\u001b[0m \u001b[0m_parser\u001b[0m\u001b[1;33m.\u001b[0m\u001b[0mTextReader\u001b[0m\u001b[1;33m(\u001b[0m\u001b[0msrc\u001b[0m\u001b[1;33m,\u001b[0m \u001b[1;33m**\u001b[0m\u001b[0mkwds\u001b[0m\u001b[1;33m)\u001b[0m\u001b[1;33m\u001b[0m\u001b[0m\n\u001b[0m\u001b[1;32m   1214\u001b[0m \u001b[1;33m\u001b[0m\u001b[0m\n\u001b[1;32m   1215\u001b[0m         \u001b[1;31m# XXX\u001b[0m\u001b[1;33m\u001b[0m\u001b[1;33m\u001b[0m\u001b[0m\n",
      "\u001b[0;32mpandas\\parser.pyx\u001b[0m in \u001b[0;36mpandas.parser.TextReader.__cinit__ (pandas\\parser.c:3427)\u001b[0;34m()\u001b[0m\n",
      "\u001b[0;32mpandas\\parser.pyx\u001b[0m in \u001b[0;36mpandas.parser.TextReader._setup_parser_source (pandas\\parser.c:6861)\u001b[0;34m()\u001b[0m\n",
      "\u001b[0;31mOSError\u001b[0m: File b'D:\\\\RESULTV2.txt' does not exist"
     ]
    }
   ],
   "source": [
    "result= pd.read_csv('D:\\\\RESULTV2.txt','\\t',index_col=None)"
   ]
  },
  {
   "cell_type": "code",
   "execution_count": 3,
   "metadata": {
    "collapsed": false
   },
   "outputs": [
    {
     "data": {
      "text/html": [
       "<div>\n",
       "<table border=\"1\" class=\"dataframe\">\n",
       "  <thead>\n",
       "    <tr style=\"text-align: right;\">\n",
       "      <th></th>\n",
       "      <th>x</th>\n",
       "      <th>y</th>\n",
       "      <th>vx</th>\n",
       "      <th>vy</th>\n",
       "    </tr>\n",
       "  </thead>\n",
       "  <tbody>\n",
       "    <tr>\n",
       "      <th>0</th>\n",
       "      <td>0.1285</td>\n",
       "      <td>4.7017</td>\n",
       "      <td>1.4299</td>\n",
       "      <td>-2.4736</td>\n",
       "    </tr>\n",
       "    <tr>\n",
       "      <th>1</th>\n",
       "      <td>1.9460</td>\n",
       "      <td>-4.6845</td>\n",
       "      <td>-3.6204</td>\n",
       "      <td>3.4486</td>\n",
       "    </tr>\n",
       "    <tr>\n",
       "      <th>2</th>\n",
       "      <td>-1.9247</td>\n",
       "      <td>-5.4732</td>\n",
       "      <td>2.9564</td>\n",
       "      <td>-2.0036</td>\n",
       "    </tr>\n",
       "    <tr>\n",
       "      <th>3</th>\n",
       "      <td>-1.2940</td>\n",
       "      <td>-5.6478</td>\n",
       "      <td>3.4882</td>\n",
       "      <td>3.5822</td>\n",
       "    </tr>\n",
       "    <tr>\n",
       "      <th>4</th>\n",
       "      <td>1.0358</td>\n",
       "      <td>4.0885</td>\n",
       "      <td>1.3954</td>\n",
       "      <td>-2.4932</td>\n",
       "    </tr>\n",
       "  </tbody>\n",
       "</table>\n",
       "</div>"
      ],
      "text/plain": [
       "        x       y      vx      vy\n",
       "0  0.1285  4.7017  1.4299 -2.4736\n",
       "1  1.9460 -4.6845 -3.6204  3.4486\n",
       "2 -1.9247 -5.4732  2.9564 -2.0036\n",
       "3 -1.2940 -5.6478  3.4882  3.5822\n",
       "4  1.0358  4.0885  1.3954 -2.4932"
      ]
     },
     "execution_count": 3,
     "metadata": {},
     "output_type": "execute_result"
    }
   ],
   "source": [
    "result.head()"
   ]
  },
  {
   "cell_type": "code",
   "execution_count": 4,
   "metadata": {
    "collapsed": false
   },
   "outputs": [
    {
     "data": {
      "text/plain": [
       "[<matplotlib.lines.Line2D at 0x942e9e8>]"
      ]
     },
     "execution_count": 4,
     "metadata": {},
     "output_type": "execute_result"
    }
   ],
   "source": [
    "plt.plot(result.x,result.y,'o')"
   ]
  },
  {
   "cell_type": "code",
   "execution_count": 47,
   "metadata": {
    "collapsed": false
   },
   "outputs": [],
   "source": [
    "plt.plot(result.step[-stepNumber:],result.densv[-stepNumber:],'o-')\n",
    "plt.show()"
   ]
  },
  {
   "cell_type": "code",
   "execution_count": 21,
   "metadata": {
    "collapsed": true
   },
   "outputs": [],
   "source": [
    "amp0 = pd.read_csv('D:\\RESULTV_amp=0.txt','\\t',index_col=None)\n",
    "amp1 = pd.read_csv('D:\\RESULTV_amp=0.1.txt','\\t',index_col=None)\n",
    "amp2 = pd.read_csv('D:\\RESULTV_amp=0.2.txt','\\t',index_col=None)\n",
    "amp3 = pd.read_csv('D:\\RESULTV_amp=0.3.txt','\\t',index_col=None)\n",
    "amp4 = pd.read_csv('D:\\RESULTV_amp=0.4.txt','\\t',index_col=None)\n",
    "amp5 = pd.read_csv('D:\\RESULTV_amp=0.5.txt','\\t',index_col=None)"
   ]
  },
  {
   "cell_type": "code",
   "execution_count": 27,
   "metadata": {
    "collapsed": false
   },
   "outputs": [],
   "source": [
    "fig, ax = plt.subplots()\n",
    "ax.plot(amp0.step[-stepNumber:],amp0.densv[-stepNumber:],'o-', label='Noise_amp = 0')\n",
    "ax.plot(amp1.step[-stepNumber:],amp1.densv[-stepNumber:],'o-', label='Noise_amp = 0.1')\n",
    "ax.plot(amp2.step[-stepNumber:],amp2.densv[-stepNumber:],'o-', label='Noise_amp = 0.2')\n",
    "ax.plot(amp3.step[-stepNumber:],amp3.densv[-stepNumber:],'o-', label='Noise_amp = 0.3')\n",
    "ax.plot(amp4.step[-stepNumber:],amp4.densv[-stepNumber:],'o-', label='Noise_amp = 0.4')\n",
    "ax.plot(amp5.step[-stepNumber:],amp5.densv[-stepNumber:],'o-', label='Noise_amp = 0.5')\n",
    "\n",
    "legend = ax.legend(loc='upper center', shadow=True)\n",
    "plt.show()"
   ]
  },
  {
   "cell_type": "code",
   "execution_count": 28,
   "metadata": {
    "collapsed": true
   },
   "outputs": [],
   "source": [
    "fig, ax = plt.subplots()\n",
    "ax.plot(amp0.step[-stepNumber:],amp0.module[-stepNumber:],'o-', label='Noise_amp = 0')\n",
    "ax.plot(amp1.step[-stepNumber:],amp1.module[-stepNumber:],'o-', label='Noise_amp = 0.1')\n",
    "ax.plot(amp2.step[-stepNumber:],amp2.module[-stepNumber:],'o-', label='Noise_amp = 0.2')\n",
    "ax.plot(amp3.step[-stepNumber:],amp3.module[-stepNumber:],'o-', label='Noise_amp = 0.3')\n",
    "ax.plot(amp4.step[-stepNumber:],amp4.module[-stepNumber:],'o-', label='Noise_amp = 0.4')\n",
    "ax.plot(amp5.step[-stepNumber:],amp5.module[-stepNumber:],'o-', label='Noise_amp = 0.5')\n",
    "\n",
    "legend = ax.legend(loc='upper center', shadow=True)\n",
    "plt.show()"
   ]
  },
  {
   "cell_type": "code",
   "execution_count": 29,
   "metadata": {
    "collapsed": true
   },
   "outputs": [],
   "source": [
    "fig, ax = plt.subplots()\n",
    "ax.plot(amp0.step[-stepNumber:],amp0.momentum[-stepNumber:],'o-', label='Noise_amp = 0')\n",
    "ax.plot(amp1.step[-stepNumber:],amp1.momentum[-stepNumber:],'o-', label='Noise_amp = 0.1')\n",
    "ax.plot(amp2.step[-stepNumber:],amp2.momentum[-stepNumber:],'o-', label='Noise_amp = 0.2')\n",
    "ax.plot(amp3.step[-stepNumber:],amp3.momentum[-stepNumber:],'o-', label='Noise_amp = 0.3')\n",
    "ax.plot(amp4.step[-stepNumber:],amp4.momentum[-stepNumber:],'o-', label='Noise_amp = 0.4')\n",
    "ax.plot(amp5.step[-stepNumber:],amp5.momentum[-stepNumber:],'o-', label='Noise_amp = 0.5')\n",
    "\n",
    "legend = ax.legend(loc='upper center', shadow=True)\n",
    "plt.show()"
   ]
  },
  {
   "cell_type": "code",
   "execution_count": null,
   "metadata": {
    "collapsed": true
   },
   "outputs": [],
   "source": []
  }
 ],
 "metadata": {
  "anaconda-cloud": {},
  "celltoolbar": "Raw Cell Format",
  "kernelspec": {
   "display_name": "Python [conda root]",
   "language": "python",
   "name": "conda-root-py"
  },
  "language_info": {
   "codemirror_mode": {
    "name": "ipython",
    "version": 3
   },
   "file_extension": ".py",
   "mimetype": "text/x-python",
   "name": "python",
   "nbconvert_exporter": "python",
   "pygments_lexer": "ipython3",
   "version": "3.5.2"
  }
 },
 "nbformat": 4,
 "nbformat_minor": 0
}
